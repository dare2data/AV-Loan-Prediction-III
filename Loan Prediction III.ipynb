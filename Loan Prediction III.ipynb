{
 "cells": [
  {
   "cell_type": "code",
   "execution_count": null,
   "metadata": {
    "collapsed": true
   },
   "outputs": [],
   "source": [
    "import pandas as pd\n",
    "import numpy as np\n",
    "%matplotlib inline\n",
    "import matplotlib.pyplot as plt\n",
    "\n",
    "from IPython.core.interactiveshell import InteractiveShell\n",
    "\n",
    "InteractiveShell.ast_node_interactivity = \"all\""
   ]
  },
  {
   "cell_type": "code",
   "execution_count": null,
   "metadata": {
    "collapsed": true
   },
   "outputs": [],
   "source": [
    "#Loading Train and Test Data\n",
    "train = pd.read_csv('/home/ashwani/Desktop/Python/DataSet/loan/train.csv')\n",
    "test = pd.read_csv('/home/ashwani/Desktop/Python/DataSet/loan/test.csv')\n"
   ]
  },
  {
   "cell_type": "code",
   "execution_count": null,
   "metadata": {},
   "outputs": [],
   "source": [
    "#shape of train and test data\n",
    "print(train.shape)\n",
    "print(test.shape)\n"
   ]
  },
  {
   "cell_type": "code",
   "execution_count": null,
   "metadata": {},
   "outputs": [],
   "source": [
    "# Fist 6 row of train dataset\n",
    "train.head(6)"
   ]
  },
  {
   "cell_type": "code",
   "execution_count": null,
   "metadata": {},
   "outputs": [],
   "source": [
    "# Variables of train dataset\n",
    "train.columns"
   ]
  },
  {
   "cell_type": "code",
   "execution_count": null,
   "metadata": {},
   "outputs": [],
   "source": [
    "#Get summary of numerical variable \n",
    "\n",
    "train.describe()"
   ]
  },
  {
   "cell_type": "code",
   "execution_count": null,
   "metadata": {},
   "outputs": [],
   "source": [
    "# summary of categorical variables\n",
    "train.describe(include=['O'])"
   ]
  },
  {
   "cell_type": "code",
   "execution_count": null,
   "metadata": {},
   "outputs": [],
   "source": [
    "train['Property_Area'].value_counts()"
   ]
  },
  {
   "cell_type": "code",
   "execution_count": null,
   "metadata": {},
   "outputs": [],
   "source": [
    "train['Dependents'].value_counts()"
   ]
  },
  {
   "cell_type": "code",
   "execution_count": null,
   "metadata": {},
   "outputs": [],
   "source": [
    "#getting missing value\n",
    "train.isnull().sum()"
   ]
  },
  {
   "cell_type": "code",
   "execution_count": null,
   "metadata": {},
   "outputs": [],
   "source": [
    "test.isnull().sum()"
   ]
  },
  {
   "cell_type": "code",
   "execution_count": null,
   "metadata": {
    "collapsed": true
   },
   "outputs": [],
   "source": [
    "#Replace missing value of train test data set\n",
    "train['LoanAmount'].fillna(train['LoanAmount'].mean(), inplace=True)\n",
    "test['LoanAmount'].fillna(test['LoanAmount'].mean(), inplace=True)\n"
   ]
  },
  {
   "cell_type": "code",
   "execution_count": null,
   "metadata": {},
   "outputs": [],
   "source": [
    "train['Self_Employed'].value_counts()\n",
    "train['Self_Employed'].fillna('No',inplace=True)\n",
    "test['Self_Employed'].fillna('No',inplace=True)"
   ]
  },
  {
   "cell_type": "code",
   "execution_count": null,
   "metadata": {},
   "outputs": [],
   "source": [
    "train['Gender'].value_counts()\n",
    "train['Gender'].fillna('Male', inplace=True)\n",
    "test['Gender'].fillna('Male', inplace=True)"
   ]
  },
  {
   "cell_type": "code",
   "execution_count": null,
   "metadata": {},
   "outputs": [],
   "source": [
    "train['Credit_History'].value_counts()\n",
    "train['Credit_History'].fillna('1.0', inplace=True)\n",
    "test['Credit_History'].fillna('1.0', inplace=True)"
   ]
  },
  {
   "cell_type": "code",
   "execution_count": null,
   "metadata": {},
   "outputs": [],
   "source": [
    "train['Loan_Amount_Term'].value_counts()\n",
    "train[\"Loan_Amount_Term\"].fillna('360.0', inplace=True)\n",
    "test[\"Loan_Amount_Term\"].fillna('360.0', inplace=True)\n"
   ]
  },
  {
   "cell_type": "code",
   "execution_count": null,
   "metadata": {},
   "outputs": [],
   "source": [
    "train['Dependents'].value_counts()\n",
    "train['Dependents'].fillna('0', inplace=True)\n",
    "test['Dependents'].fillna('0', inplace=True)"
   ]
  },
  {
   "cell_type": "code",
   "execution_count": null,
   "metadata": {},
   "outputs": [],
   "source": [
    "train['Married'].value_counts()\n",
    "train['Married'].fillna('Yes', inplace=True)"
   ]
  },
  {
   "cell_type": "code",
   "execution_count": null,
   "metadata": {
    "collapsed": true
   },
   "outputs": [],
   "source": [
    "#create a feature variable Credibility\n",
    "train['Credibility'] = train['ApplicantIncome'] / train['LoanAmount']\n",
    "test['Credibility'] = test['ApplicantIncome'] / test['LoanAmount']"
   ]
  },
  {
   "cell_type": "code",
   "execution_count": null,
   "metadata": {
    "collapsed": true
   },
   "outputs": [],
   "source": [
    "cat= ['Gender','Married','Dependents','Self_Employed','Property_Area','Education']\n",
    "num = ['ApplicantIncome', 'CoapplicantIncome','LoanAmount','Loan_Amount_Term','Credit_History']"
   ]
  },
  {
   "cell_type": "code",
   "execution_count": null,
   "metadata": {
    "collapsed": true
   },
   "outputs": [],
   "source": [
    "for col  in num:\n",
    "    train[col]=train[col].astype('float64')\n",
    "    test[col]=test[col].astype('float64')"
   ]
  },
  {
   "cell_type": "code",
   "execution_count": null,
   "metadata": {},
   "outputs": [],
   "source": [
    "for col  in cat:\n",
    "    train[col]=train[col].astype('category')\n",
    "    test[col]=test[col].astype('category')"
   ]
  },
  {
   "cell_type": "code",
   "execution_count": null,
   "metadata": {},
   "outputs": [],
   "source": [
    "final=train.append(test, ignore_index=True)\n",
    "final=final.drop(['Loan_ID'], axis=1)\n",
    "final.head()"
   ]
  },
  {
   "cell_type": "code",
   "execution_count": null,
   "metadata": {},
   "outputs": [],
   "source": [
    "from sklearn.preprocessing import LabelEncoder\n",
    "le = LabelEncoder()\n",
    "for col in ['Dependents']:\n",
    "    final[col] = le.fit_transform(final[col])\n",
    "    \n",
    "final_wt=pd.get_dummies(final.drop(['Loan_Status'], axis=1))"
   ]
  },
  {
   "cell_type": "code",
   "execution_count": null,
   "metadata": {},
   "outputs": [],
   "source": [
    "final_wt['Loan_Status']=final['Loan_Status']\n",
    "final_wt.dtypes"
   ]
  },
  {
   "cell_type": "code",
   "execution_count": null,
   "metadata": {},
   "outputs": [],
   "source": [
    "final_wt['Loan_Status']=final_wt['Loan_Status'].astype('category')\n"
   ]
  },
  {
   "cell_type": "code",
   "execution_count": null,
   "metadata": {
    "collapsed": true
   },
   "outputs": [],
   "source": [
    "train=final_wt.iloc[0:614,:]\n",
    "test=final_wt.iloc[614:,:]"
   ]
  },
  {
   "cell_type": "code",
   "execution_count": null,
   "metadata": {
    "collapsed": true
   },
   "outputs": [],
   "source": [
    "test_loan=test.drop(['Loan_Status'], axis=1)"
   ]
  },
  {
   "cell_type": "code",
   "execution_count": null,
   "metadata": {},
   "outputs": [],
   "source": [
    "train.shape, test_loan.shape"
   ]
  },
  {
   "cell_type": "code",
   "execution_count": null,
   "metadata": {},
   "outputs": [],
   "source": [
    "from sklearn.model_selection import train_test_split\n",
    "x_train, x_test, y_train, y_test= train_test_split(train.drop(['Loan_Status'], axis=1),\n",
    "                                                  train['Loan_Status'],test_size =0.4,\n",
    "                                                    random_state = 123)"
   ]
  },
  {
   "cell_type": "code",
   "execution_count": null,
   "metadata": {},
   "outputs": [],
   "source": [
    "# Decesion Tree\n",
    "from sklearn import metrics\n",
    "from sklearn.tree import DecisionTreeClassifier\n",
    "\n",
    "\n",
    "tree_model = DecisionTreeClassifier()\n",
    "tree_model.fit(x_train, y_train)\n",
    "tree_pred= tree_model.predict(x_test)\n",
    "\n",
    "metrics.accuracy_score(y_test,tree_pred), metrics.cohen_kappa_score(y_test,tree_pred)"
   ]
  },
  {
   "cell_type": "code",
   "execution_count": null,
   "metadata": {},
   "outputs": [],
   "source": [
    "# Random Forest\n",
    "from sklearn.ensemble import RandomForestClassifier\n",
    "\n",
    "rand_model = RandomForestClassifier(n_estimators=700)\n",
    "rand_model.fit(x_train, y_train)\n",
    "rand_pred= rand_model.predict(x_test)\n",
    "metrics.confusion_matrix(y_test,rand_pred)\n",
    "metrics.accuracy_score(y_test,rand_pred), metrics.cohen_kappa_score(y_test,rand_pred)"
   ]
  },
  {
   "cell_type": "code",
   "execution_count": null,
   "metadata": {},
   "outputs": [],
   "source": [
    "from sklearn import svm\n",
    "from sklearn.preprocessing import scale\n",
    "X_train=scale(x_train, axis=0)\n",
    "X_test=scale(x_test, axis=0)\n",
    "svm_model = svm.SVC()\n",
    "svm_model.fit(X = X_train, y = y_train)\n",
    "pred_svm = svm_model.predict(X_test)\n",
    "metrics.confusion_matrix(y_test,pred_svm)\n",
    "metrics.accuracy_score(y_test,pred_svm), metrics.cohen_kappa_score(y_test,pred_svm)"
   ]
  },
  {
   "cell_type": "code",
   "execution_count": null,
   "metadata": {
    "collapsed": true
   },
   "outputs": [],
   "source": [
    "pred_test=rand_model.predict(test_loan)"
   ]
  },
  {
   "cell_type": "code",
   "execution_count": null,
   "metadata": {
    "collapsed": true
   },
   "outputs": [],
   "source": [
    "test_output=pd.DataFrame({'Loan_ID':test_loan['Loan_ID'], 'Loan_Status':pred_test})\n",
    "\n",
    "test_output.to_csv('/home/ashwani/Desktop/loan_output.csv',index=False)"
   ]
  }
 ],
 "metadata": {
  "kernelspec": {
   "display_name": "Python 3",
   "language": "python",
   "name": "python3"
  },
  "language_info": {
   "codemirror_mode": {
    "name": "ipython",
    "version": 3
   },
   "file_extension": ".py",
   "mimetype": "text/x-python",
   "name": "python",
   "nbconvert_exporter": "python",
   "pygments_lexer": "ipython3",
   "version": "3.6.1"
  }
 },
 "nbformat": 4,
 "nbformat_minor": 2
}
